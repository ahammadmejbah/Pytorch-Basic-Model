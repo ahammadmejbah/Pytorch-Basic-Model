{
 "cells": [
  {
   "cell_type": "markdown",
   "metadata": {},
   "source": [
    "<h2><center> Classification Mnist -Deep Neuron AI </center></h2>"
   ]
  },
  {
   "cell_type": "code",
   "execution_count": 1,
   "metadata": {},
   "outputs": [],
   "source": [
    "import torch\n",
    "import torchvision.datasets as dsets\n",
    "import torchvision.transforms as transforms\n",
    "from torch.utils.data import DataLoader as DataLoader\n",
    "import torch.nn as nn\n",
    "import torch.optim as opt\n",
    "from torch.autograd import Variable"
   ]
  },
  {
   "cell_type": "code",
   "execution_count": 2,
   "metadata": {},
   "outputs": [],
   "source": [
    "train_dataset = dsets.MNIST(root='./data', train=True, transform=transforms.ToTensor(), download=True)\n",
    "test_dataset = dsets.MNIST(root='./data', train=False, transform=transforms.ToTensor(), download=False)"
   ]
  },
  {
   "cell_type": "code",
   "execution_count": 3,
   "metadata": {},
   "outputs": [
    {
     "data": {
      "text/plain": [
       "torch.Size([60000, 28, 28])"
      ]
     },
     "execution_count": 3,
     "metadata": {},
     "output_type": "execute_result"
    }
   ],
   "source": [
    "train_dataset.data.shape # 60000 count, 28x28"
   ]
  },
  {
   "cell_type": "code",
   "execution_count": 4,
   "metadata": {},
   "outputs": [
    {
     "data": {
      "image/png": "[encoded data removed]",
      "text/plain": [
       "<Figure size 640x480 with 1 Axes>"
      ]
     },
     "metadata": {},
     "output_type": "display_data"
    }
   ],
   "source": [
    "import matplotlib.pyplot as plt\n",
    "plt.imshow(train_dataset.data[0], cmap='gray') # first image\n",
    "plt.title('%i' %train_dataset.targets[0])\n",
    "plt.show()"
   ]
  },
  {
   "cell_type": "code",
   "execution_count": 5,
   "metadata": {},
   "outputs": [],
   "source": [
    "batch_size = 100\n",
    "input_size = 28 * 28\n",
    "num_class = 10 #label: 0-9\n",
    "hidden_size = 500 # 500 nodes\n",
    "num_epoch = 5\n",
    "learning_rate = 0.001"
   ]
  },
  {
   "cell_type": "code",
   "execution_count": 6,
   "metadata": {},
   "outputs": [],
   "source": [
    "train_loader = DataLoader(dataset=train_dataset, \n",
    "                          batch_size=batch_size, \n",
    "                          shuffle=True)\n",
    "test_loader = DataLoader(dataset=test_dataset,\n",
    "                          batch_size=batch_size,\n",
    "                          shuffle=False)"
   ]
  },
  {
   "cell_type": "code",
   "execution_count": 7,
   "metadata": {},
   "outputs": [
    {
     "data": {
      "text/plain": [
       "torch.Size([10000])"
      ]
     },
     "execution_count": 7,
     "metadata": {},
     "output_type": "execute_result"
    }
   ],
   "source": [
    "test_y = test_dataset.targets\n",
    "test_y.shape # 10000 count"
   ]
  },
  {
   "cell_type": "code",
   "execution_count": 8,
   "metadata": {},
   "outputs": [],
   "source": [
    "class Model(nn.Module):\n",
    "    def __init__(self, input_size, hidden_size, num_class):\n",
    "        super(Model, self).__init__()\n",
    "        self.fc_1 = nn.Linear(input_size, hidden_size)\n",
    "        self.relu = nn.ReLU()\n",
    "        self.fc_2 = nn.Linear(hidden_size, num_class)\n",
    "        \n",
    "    def forward(self, x):\n",
    "        out = self.fc_1(x)\n",
    "        out = self.relu(out)\n",
    "        out = self.fc_2(out)\n",
    "        return out"
   ]
  },
  {
   "cell_type": "code",
   "execution_count": 9,
   "metadata": {},
   "outputs": [
    {
     "name": "stdout",
     "output_type": "stream",
     "text": [
      "Model(\n",
      "  (fc_1): Linear(in_features=784, out_features=500, bias=True)\n",
      "  (relu): ReLU()\n",
      "  (fc_2): Linear(in_features=500, out_features=10, bias=True)\n",
      ")\n"
     ]
    }
   ],
   "source": [
    "model = Model(input_size=input_size, hidden_size=hidden_size, num_class=num_class)\n",
    "print(model)"
   ]
  },
  {
   "cell_type": "code",
   "execution_count": 10,
   "metadata": {},
   "outputs": [],
   "source": [
    "loss_func = nn.CrossEntropyLoss()\n",
    "optimizer = opt.Adam(model.parameters(), lr=learning_rate)"
   ]
  },
  {
   "cell_type": "code",
   "execution_count": 11,
   "metadata": {},
   "outputs": [
    {
     "name": "stdout",
     "output_type": "stream",
     "text": [
      "Epoch: 1, Batch: 100, Loss: 0.3641415536403656\n",
      "Epoch: 1, Batch: 200, Loss: 0.22211231291294098\n",
      "Epoch: 1, Batch: 300, Loss: 0.17881488800048828\n",
      "Epoch: 1, Batch: 400, Loss: 0.18573039770126343\n",
      "Epoch: 1, Batch: 500, Loss: 0.16242703795433044\n",
      "Epoch: 1, Batch: 600, Loss: 0.1902265101671219\n",
      "Epoch: 2, Batch: 100, Loss: 0.16107341647148132\n",
      "Epoch: 2, Batch: 200, Loss: 0.21833530068397522\n",
      "Epoch: 2, Batch: 300, Loss: 0.1533384472131729\n",
      "Epoch: 2, Batch: 400, Loss: 0.15025600790977478\n",
      "Epoch: 2, Batch: 500, Loss: 0.06744755804538727\n",
      "Epoch: 2, Batch: 600, Loss: 0.050049327313899994\n",
      "Epoch: 3, Batch: 100, Loss: 0.08742379397153854\n",
      "Epoch: 3, Batch: 200, Loss: 0.04230950400233269\n",
      "Epoch: 3, Batch: 300, Loss: 0.09424186497926712\n",
      "Epoch: 3, Batch: 400, Loss: 0.028483765199780464\n",
      "Epoch: 3, Batch: 500, Loss: 0.09658776968717575\n",
      "Epoch: 3, Batch: 600, Loss: 0.02376888506114483\n",
      "Epoch: 4, Batch: 100, Loss: 0.02480161190032959\n",
      "Epoch: 4, Batch: 200, Loss: 0.09596456587314606\n",
      "Epoch: 4, Batch: 300, Loss: 0.03425858914852142\n",
      "Epoch: 4, Batch: 400, Loss: 0.0407811738550663\n",
      "Epoch: 4, Batch: 500, Loss: 0.020041199401021004\n",
      "Epoch: 4, Batch: 600, Loss: 0.11537661403417587\n",
      "Epoch: 5, Batch: 100, Loss: 0.0760369747877121\n",
      "Epoch: 5, Batch: 200, Loss: 0.017938796430826187\n",
      "Epoch: 5, Batch: 300, Loss: 0.08360769599676132\n",
      "Epoch: 5, Batch: 400, Loss: 0.016361096873879433\n",
      "Epoch: 5, Batch: 500, Loss: 0.06918951869010925\n",
      "Epoch: 5, Batch: 600, Loss: 0.04460907354950905\n"
     ]
    }
   ],
   "source": [
    "# train model\n",
    "for epoch in range(num_epoch):\n",
    "    for i, (images, labels) in enumerate(train_loader):\n",
    "        # images are 100(batch_size) * 28*28 tensor.\n",
    "        images = Variable(images.view(-1, 28*28)) # -1 means 100 here\n",
    "        labels = Variable(labels)\n",
    "        \n",
    "        optimizer.zero_grad()\n",
    "        output = model(images) # forward pass\n",
    "        loss = loss_func(output, labels) # loss\n",
    "        \n",
    "        # backward\n",
    "        loss.backward()\n",
    "        optimizer.step()\n",
    "        \n",
    "        if (i+1) % 100 == 0:\n",
    "            print('Epoch: {}, Batch: {}, Loss: {}'.format(epoch+1, i+1, loss.data))"
   ]
  },
  {
   "cell_type": "code",
   "execution_count": 12,
   "metadata": {},
   "outputs": [
    {
     "name": "stdout",
     "output_type": "stream",
     "text": [
      "accuracy: 97.68 %\n"
     ]
    }
   ],
   "source": [
    "# calculate accuracy\n",
    "\n",
    "correct = 0\n",
    "total = 0\n",
    "for images, labels in test_loader:\n",
    "    images = Variable(images.view(-1, 28*28))\n",
    "    labels = Variable(labels)\n",
    "    \n",
    "    # output is 100x10 matrix;\n",
    "    output = model(images)\n",
    "    \n",
    "    # 1 means max by column;\n",
    "    # _ is -> value; predicted -> label(index).\n",
    "    _, predicted = torch.max(output.data, 1) \n",
    "    \n",
    "    total += labels.size(0) # len; total is 100  here.\n",
    "    correct += (predicted == labels).sum()\n",
    "    \n",
    "print('accuracy: {} %'.format(float(correct)/ float(total) * 100))"
   ]
  },
  {
   "cell_type": "code",
   "execution_count": 13,
   "metadata": {},
   "outputs": [
    {
     "data": {
      "image/png": "[encoded data removed]",
      "text/plain": [
       "<Figure size 640x480 with 1 Axes>"
      ]
     },
     "metadata": {},
     "output_type": "display_data"
    }
   ],
   "source": [
    "plt.imshow(images.data[0].view(28, 28), cmap='gray')\n",
    "plt.title(int(labels[0]))\n",
    "plt.show()"
   ]
  },
  {
   "cell_type": "code",
   "execution_count": 14,
   "metadata": {},
   "outputs": [
    {
     "data": {
      "text/plain": [
       "<All keys matched successfully>"
      ]
     },
     "execution_count": 14,
     "metadata": {},
     "output_type": "execute_result"
    }
   ],
   "source": [
    "#1 method save model weight\n",
    "torch.save(model.state_dict(), 'model.pkl')\n",
    "model = Model(input_size, hidden_size, num_class)\n",
    "# load weight\n",
    "model.load_state_dict(torch.load('model.pkl'))"
   ]
  },
  {
   "cell_type": "code",
   "execution_count": 15,
   "metadata": {},
   "outputs": [],
   "source": [
    "#2 method save model\n",
    "torch.save(model, 'model2.pkl')\n",
    "model3 = torch.load('model2.pkl')"
   ]
  },
  {
   "cell_type": "markdown",
   "metadata": {},
   "source": [
    "### Other way building model"
   ]
  },
  {
   "cell_type": "code",
   "execution_count": 16,
   "metadata": {},
   "outputs": [
    {
     "name": "stdout",
     "output_type": "stream",
     "text": [
      "Sequential(\n",
      "  (0): Linear(in_features=784, out_features=500, bias=True)\n",
      "  (1): ReLU()\n",
      "  (2): Linear(in_features=500, out_features=10, bias=True)\n",
      ")\n"
     ]
    }
   ],
   "source": [
    "model_easyway = nn.Sequential(\n",
    "    nn.Linear(input_size, hidden_size),\n",
    "    nn.ReLU(),\n",
    "    nn.Linear(hidden_size, num_class)\n",
    ")\n",
    "print(model_easyway)"
   ]
  },
  {
   "cell_type": "code",
   "execution_count": 17,
   "metadata": {},
   "outputs": [
    {
     "name": "stdout",
     "output_type": "stream",
     "text": [
      "Epoch: 1, Batch: 100, Loss: 0.30346259474754333\n",
      "Epoch: 1, Batch: 200, Loss: 0.22173240780830383\n",
      "Epoch: 1, Batch: 300, Loss: 0.19771111011505127\n",
      "Epoch: 1, Batch: 400, Loss: 0.29929691553115845\n",
      "Epoch: 1, Batch: 500, Loss: 0.15386822819709778\n",
      "Epoch: 1, Batch: 600, Loss: 0.16780200600624084\n",
      "Epoch: 2, Batch: 100, Loss: 0.28921014070510864\n",
      "Epoch: 2, Batch: 200, Loss: 0.08196040987968445\n",
      "Epoch: 2, Batch: 300, Loss: 0.20036765933036804\n",
      "Epoch: 2, Batch: 400, Loss: 0.10264822840690613\n",
      "Epoch: 2, Batch: 500, Loss: 0.1423172503709793\n",
      "Epoch: 2, Batch: 600, Loss: 0.10015389323234558\n",
      "Epoch: 3, Batch: 100, Loss: 0.06903389096260071\n",
      "Epoch: 3, Batch: 200, Loss: 0.09284999221563339\n",
      "Epoch: 3, Batch: 300, Loss: 0.10099270939826965\n",
      "Epoch: 3, Batch: 400, Loss: 0.10086120665073395\n",
      "Epoch: 3, Batch: 500, Loss: 0.022567985579371452\n",
      "Epoch: 3, Batch: 600, Loss: 0.03579895570874214\n",
      "Epoch: 4, Batch: 100, Loss: 0.06556075811386108\n",
      "Epoch: 4, Batch: 200, Loss: 0.06551477313041687\n",
      "Epoch: 4, Batch: 300, Loss: 0.042763739824295044\n",
      "Epoch: 4, Batch: 400, Loss: 0.041973233222961426\n",
      "Epoch: 4, Batch: 500, Loss: 0.08680815994739532\n",
      "Epoch: 4, Batch: 600, Loss: 0.026907872408628464\n",
      "Epoch: 5, Batch: 100, Loss: 0.04800249636173248\n",
      "Epoch: 5, Batch: 200, Loss: 0.02945333532989025\n",
      "Epoch: 5, Batch: 300, Loss: 0.049751490354537964\n",
      "Epoch: 5, Batch: 400, Loss: 0.0357450470328331\n",
      "Epoch: 5, Batch: 500, Loss: 0.03273974731564522\n",
      "Epoch: 5, Batch: 600, Loss: 0.01990038901567459\n"
     ]
    }
   ],
   "source": [
    "loss_func = nn.CrossEntropyLoss()\n",
    "optimizer = opt.Adam(model_easyway.parameters(), lr=learning_rate)\n",
    "\n",
    "# train model\n",
    "for epoch in range(num_epoch):\n",
    "    for i, (images, labels) in enumerate(train_loader):\n",
    "        # images are 100(batch_size) * 28*28 tensor.\n",
    "        images = Variable(images.view(-1, 28*28)) # -1 means 100 here\n",
    "        labels = Variable(labels)\n",
    "        \n",
    "        optimizer.zero_grad()\n",
    "        output = model_easyway(images) # forward pass\n",
    "        loss = loss_func(output, labels) # loss\n",
    "        \n",
    "        # backward\n",
    "        loss.backward()\n",
    "        optimizer.step()\n",
    "        \n",
    "        if (i+1) % 100 == 0:\n",
    "            print('Epoch: {}, Batch: {}, Loss: {}'.format(epoch+1, i+1, loss.data))"
   ]
  },
  {
   "cell_type": "code",
   "execution_count": 18,
   "metadata": {},
   "outputs": [
    {
     "name": "stdout",
     "output_type": "stream",
     "text": [
      "accuracy: 97.67 %\n"
     ]
    }
   ],
   "source": [
    "# calculate accuracy\n",
    "\n",
    "correct = 0\n",
    "total = 0\n",
    "for images, labels in test_loader:\n",
    "    images = Variable(images.view(-1, 28*28))\n",
    "    labels = Variable(labels)\n",
    "    \n",
    "    # output is 100x10 matrix;\n",
    "    output = model_easyway(images)\n",
    "    \n",
    "    # 1 means max by column;\n",
    "    # _ is -> value; predicted -> label(index).\n",
    "    _, predicted = torch.max(output.data, 1) \n",
    "    \n",
    "    total += labels.size(0) # len; total is 100  here.\n",
    "    correct += (predicted == labels).sum()\n",
    "    \n",
    "print('accuracy: {} %'.format(float(correct)/ float(total) * 100))"
   ]
  },
  {
   "cell_type": "code",
   "execution_count": null,
   "metadata": {},
   "outputs": [],
   "source": []
  }
 ],
 "metadata": {
  "kernelspec": {
   "display_name": "Python 3 (ipykernel)",
   "language": "python",
   "name": "python3"
  },
  "language_info": {
   "codemirror_mode": {
    "name": "ipython",
    "version": 3
   },
   "file_extension": ".py",
   "mimetype": "text/x-python",
   "name": "python",
   "nbconvert_exporter": "python",
   "pygments_lexer": "ipython3",
   "version": "3.7.13"
  }
 },
 "nbformat": 4,
 "nbformat_minor": 4
}
