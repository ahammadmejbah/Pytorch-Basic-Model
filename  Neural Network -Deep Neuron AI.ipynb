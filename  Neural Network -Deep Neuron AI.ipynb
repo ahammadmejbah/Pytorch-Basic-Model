{
 "cells": [
  {
   "cell_type": "markdown",
   "metadata": {},
   "source": [
    "<h2><center> Neural Network -Deep Neuron AI</center><h2>"
   ]
  },
  {
   "cell_type": "code",
   "execution_count": 1,
   "metadata": {
    "colab": {
     "base_uri": "https://localhost:8080/"
    },
    "id": "OSGgxh9thYFv",
    "outputId": "b79711b2-8d8a-43ac-9864-8f996a676756"
   },
   "outputs": [
    {
     "name": "stderr",
     "output_type": "stream",
     "text": [
      "'wget' is not recognized as an internal or external command,\n",
      "operable program or batch file.\n",
      "tar: Error opening archive: Failed to open 'MNIST.tar.gz'\n"
     ]
    },
    {
     "name": "stdout",
     "output_type": "stream",
     "text": [
      "Downloading http://yann.lecun.com/exdb/mnist/train-images-idx3-ubyte.gz\n",
      "Downloading http://yann.lecun.com/exdb/mnist/train-images-idx3-ubyte.gz to ./MNIST\\raw\\train-images-idx3-ubyte.gz\n"
     ]
    },
    {
     "name": "stderr",
     "output_type": "stream",
     "text": [
      "100.0%\n"
     ]
    },
    {
     "name": "stdout",
     "output_type": "stream",
     "text": [
      "Extracting ./MNIST\\raw\\train-images-idx3-ubyte.gz to ./MNIST\\raw\n",
      "\n",
      "Downloading http://yann.lecun.com/exdb/mnist/train-labels-idx1-ubyte.gz\n"
     ]
    },
    {
     "name": "stderr",
     "output_type": "stream",
     "text": [
      "100.0%"
     ]
    },
    {
     "name": "stdout",
     "output_type": "stream",
     "text": [
      "Downloading http://yann.lecun.com/exdb/mnist/train-labels-idx1-ubyte.gz to ./MNIST\\raw\\train-labels-idx1-ubyte.gz\n",
      "Extracting ./MNIST\\raw\\train-labels-idx1-ubyte.gz to ./MNIST\\raw\n",
      "\n",
      "Downloading http://yann.lecun.com/exdb/mnist/t10k-images-idx3-ubyte.gz\n"
     ]
    },
    {
     "name": "stderr",
     "output_type": "stream",
     "text": [
      "\n",
      "37.8%"
     ]
    },
    {
     "name": "stdout",
     "output_type": "stream",
     "text": [
      "Downloading http://yann.lecun.com/exdb/mnist/t10k-images-idx3-ubyte.gz to ./MNIST\\raw\\t10k-images-idx3-ubyte.gz\n"
     ]
    },
    {
     "name": "stderr",
     "output_type": "stream",
     "text": [
      "100.0%\n"
     ]
    },
    {
     "name": "stdout",
     "output_type": "stream",
     "text": [
      "Extracting ./MNIST\\raw\\t10k-images-idx3-ubyte.gz to ./MNIST\\raw\n",
      "\n",
      "Downloading http://yann.lecun.com/exdb/mnist/t10k-labels-idx1-ubyte.gz\n",
      "Downloading http://yann.lecun.com/exdb/mnist/t10k-labels-idx1-ubyte.gz to ./MNIST\\raw\\t10k-labels-idx1-ubyte.gz\n"
     ]
    },
    {
     "name": "stderr",
     "output_type": "stream",
     "text": [
      "100.0%"
     ]
    },
    {
     "name": "stdout",
     "output_type": "stream",
     "text": [
      "Extracting ./MNIST\\raw\\t10k-labels-idx1-ubyte.gz to ./MNIST\\raw\n",
      "\n"
     ]
    },
    {
     "name": "stderr",
     "output_type": "stream",
     "text": [
      "\n"
     ]
    }
   ],
   "source": [
    "!wget www.di.ens.fr/~lelarge/MNIST.tar.gz\n",
    "!tar -zxvf MNIST.tar.gz\n",
    "from torchvision.datasets import MNIST\n",
    "import torchvision.transforms as transforms\n",
    "train_dataset = MNIST(root = './', train=True, download=True, transform=transforms.ToTensor())\n",
    "test_dataset= MNIST(root = './', train=False, download=True, transform=transforms.ToTensor())"
   ]
  },
  {
   "cell_type": "code",
   "execution_count": 2,
   "metadata": {
    "colab": {
     "base_uri": "https://localhost:8080/"
    },
    "id": "kvOEjiVzhuJX",
    "outputId": "327c44cb-13ae-4878-dd0c-cffb42f2f5f7"
   },
   "outputs": [
    {
     "data": {
      "text/plain": [
       "Dataset MNIST\n",
       "    Number of datapoints: 60000\n",
       "    Root location: ./\n",
       "    Split: Train\n",
       "    StandardTransform\n",
       "Transform: ToTensor()"
      ]
     },
     "execution_count": 2,
     "metadata": {},
     "output_type": "execute_result"
    }
   ],
   "source": [
    "train_dataset"
   ]
  },
  {
   "cell_type": "code",
   "execution_count": 3,
   "metadata": {
    "colab": {
     "base_uri": "https://localhost:8080/"
    },
    "id": "jVhEj-2xiGVl",
    "outputId": "f248d617-627b-45be-eae4-fd15871f202b"
   },
   "outputs": [
    {
     "data": {
      "text/plain": [
       "torch.Size([60000, 28, 28])"
      ]
     },
     "execution_count": 3,
     "metadata": {},
     "output_type": "execute_result"
    }
   ],
   "source": [
    "train_dataset.data.shape"
   ]
  },
  {
   "cell_type": "code",
   "execution_count": 4,
   "metadata": {
    "id": "HV97kmVmjQ7v"
   },
   "outputs": [],
   "source": [
    "import matplotlib.pyplot as plt"
   ]
  },
  {
   "cell_type": "code",
   "execution_count": 5,
   "metadata": {
    "colab": {
     "base_uri": "https://localhost:8080/",
     "height": 298
    },
    "id": "vPO2-h0_krp6",
    "outputId": "63044a1c-64db-49a0-8132-61fcce932abd"
   },
   "outputs": [
    {
     "data": {
      "text/plain": [
       "Text(0.5, 1.0, 'Label: 5')"
      ]
     },
     "execution_count": 5,
     "metadata": {},
     "output_type": "execute_result"
    },
    {
     "data": {
      "image/png": "[encoded data removed]",
      "text/plain": [
       "<Figure size 640x480 with 1 Axes>"
      ]
     },
     "metadata": {},
     "output_type": "display_data"
    }
   ],
   "source": [
    "plt.imshow(train_dataset.data[0].numpy(), cmap='gray') # numpy(): tensor to numpy array\n",
    "plt.title('Label: %i' %train_dataset.targets[0])"
   ]
  },
  {
   "cell_type": "code",
   "execution_count": 6,
   "metadata": {
    "id": "VlP66dXulBy6"
   },
   "outputs": [],
   "source": [
    "input_size = 28 * 28\n",
    "hidden_size = 500\n",
    "num_classes = 10\n",
    "num_epoch = 5\n",
    "batch_size = 100 # 每累積100筆loss 更新一次parameters\n",
    "learnin_rate = 0.001"
   ]
  },
  {
   "cell_type": "code",
   "execution_count": 7,
   "metadata": {
    "id": "qR0b6hGwn5Wl"
   },
   "outputs": [],
   "source": [
    "import torch.utils.data as Data"
   ]
  },
  {
   "cell_type": "code",
   "execution_count": 8,
   "metadata": {
    "id": "Wh02IiX9oPFh"
   },
   "outputs": [],
   "source": [
    "train_loader = Data.DataLoader(dataset=train_dataset, \n",
    "                               batch_size=batch_size, \n",
    "                               shuffle=True)\n",
    "test_loader = Data.DataLoader(dataset=test_dataset, \n",
    "                               batch_size=batch_size, \n",
    "                               shuffle=False) # shuffle=False"
   ]
  },
  {
   "cell_type": "code",
   "execution_count": 9,
   "metadata": {
    "id": "FnhLIC0JuJi1"
   },
   "outputs": [],
   "source": [
    "import torch.nn as nn"
   ]
  },
  {
   "cell_type": "code",
   "execution_count": 10,
   "metadata": {
    "id": "ZlOCyCK0uSRh"
   },
   "outputs": [],
   "source": [
    "class Model(nn.Module):\n",
    "  def __init__(self, input_size, hidden_size, num_classes):\n",
    "    super(Model, self).__init__()\n",
    "    self.fc1 = nn.Linear(input_size, hidden_size)\n",
    "    self.relu = nn.ReLU()\n",
    "    self.fc2 = nn.Linear(hidden_size, num_classes)\n",
    "  \n",
    "  def forward(self, x):\n",
    "    out = self.fc1(x)\n",
    "    out = self.relu(out)\n",
    "    out = self.fc2(out)\n",
    "    return out"
   ]
  },
  {
   "cell_type": "code",
   "execution_count": 11,
   "metadata": {
    "id": "hXaF-Bb5wAYH"
   },
   "outputs": [],
   "source": [
    "model = Model(input_size, hidden_size, num_classes)"
   ]
  },
  {
   "cell_type": "code",
   "execution_count": 12,
   "metadata": {
    "id": "u0jOpab9wHrI"
   },
   "outputs": [],
   "source": [
    "import torch.optim as opt\n",
    "from torch.autograd import Variable"
   ]
  },
  {
   "cell_type": "code",
   "execution_count": 13,
   "metadata": {
    "id": "jYKbygl-wRST"
   },
   "outputs": [],
   "source": [
    "loss_fn = nn.CrossEntropyLoss()\n",
    "optimizer = opt.Adam(model.parameters(), lr=learnin_rate)"
   ]
  },
  {
   "cell_type": "code",
   "execution_count": 14,
   "metadata": {
    "colab": {
     "base_uri": "https://localhost:8080/"
    },
    "id": "IOeGH4JewlnU",
    "outputId": "262226d0-6045-498c-def5-a434f6e961c5"
   },
   "outputs": [
    {
     "name": "stdout",
     "output_type": "stream",
     "text": [
      "Epoch: 1, Batch: 100, Loss: 0.3420\n",
      "Epoch: 1, Batch: 200, Loss: 0.2864\n",
      "Epoch: 1, Batch: 300, Loss: 0.1081\n",
      "Epoch: 1, Batch: 400, Loss: 0.1187\n",
      "Epoch: 1, Batch: 500, Loss: 0.1679\n",
      "Epoch: 1, Batch: 600, Loss: 0.0719\n",
      "Epoch: 2, Batch: 100, Loss: 0.1501\n",
      "Epoch: 2, Batch: 200, Loss: 0.0648\n",
      "Epoch: 2, Batch: 300, Loss: 0.0589\n",
      "Epoch: 2, Batch: 400, Loss: 0.0773\n",
      "Epoch: 2, Batch: 500, Loss: 0.0969\n",
      "Epoch: 2, Batch: 600, Loss: 0.0443\n",
      "Epoch: 3, Batch: 100, Loss: 0.0632\n",
      "Epoch: 3, Batch: 200, Loss: 0.0353\n",
      "Epoch: 3, Batch: 300, Loss: 0.0527\n",
      "Epoch: 3, Batch: 400, Loss: 0.1167\n",
      "Epoch: 3, Batch: 500, Loss: 0.0453\n",
      "Epoch: 3, Batch: 600, Loss: 0.0881\n",
      "Epoch: 4, Batch: 100, Loss: 0.0499\n",
      "Epoch: 4, Batch: 200, Loss: 0.0884\n",
      "Epoch: 4, Batch: 300, Loss: 0.0655\n",
      "Epoch: 4, Batch: 400, Loss: 0.0285\n",
      "Epoch: 4, Batch: 500, Loss: 0.1054\n",
      "Epoch: 4, Batch: 600, Loss: 0.1043\n",
      "Epoch: 5, Batch: 100, Loss: 0.0169\n",
      "Epoch: 5, Batch: 200, Loss: 0.0255\n",
      "Epoch: 5, Batch: 300, Loss: 0.0485\n",
      "Epoch: 5, Batch: 400, Loss: 0.0325\n",
      "Epoch: 5, Batch: 500, Loss: 0.0398\n",
      "Epoch: 5, Batch: 600, Loss: 0.0340\n"
     ]
    }
   ],
   "source": [
    "for epoch in range(num_epoch):\n",
    "  for idx, (images, labels) in enumerate(train_loader):\n",
    "    images = Variable(images.view(-1, 28*28))\n",
    "    labels = Variable(labels)\n",
    "\n",
    "    optimizer.zero_grad()\n",
    "    outputs = model(images)\n",
    "    loss = loss_fn(outputs, labels)\n",
    "    loss.backward()\n",
    "    optimizer.step()\n",
    "\n",
    "    if (idx+1)%100 == 0:\n",
    "      print(\"Epoch: %d, Batch: %d, Loss: %.4f\" %(epoch+1, idx+1, loss.data))"
   ]
  },
  {
   "cell_type": "code",
   "execution_count": 15,
   "metadata": {
    "id": "55PvFonAyqV2"
   },
   "outputs": [],
   "source": [
    "import torch"
   ]
  },
  {
   "cell_type": "code",
   "execution_count": 16,
   "metadata": {
    "colab": {
     "base_uri": "https://localhost:8080/"
    },
    "id": "zTG94N6JzHxh",
    "outputId": "f42a6b32-a949-4c41-b576-6d4b79394018"
   },
   "outputs": [
    {
     "name": "stdout",
     "output_type": "stream",
     "text": [
      "Accuracy:97.950%\n"
     ]
    }
   ],
   "source": [
    "correct = 0\n",
    "total = 0\n",
    "for images, labels in test_loader:\n",
    "  images = Variable(images.view(-1, 28*28))\n",
    "  labels = Variable(labels) # torch.Size([100]) batch_size\n",
    "  outputs = model(images) # torch.Size([100, 10]) # batch_size, num_classes\n",
    "  _, pred = torch.max(outputs.data, 1) # 1=(from) row\n",
    "  \n",
    "  correct += (pred == labels).sum() # 猜對量sum\n",
    "  total += labels.size(0)\n",
    "\n",
    "print('Accuracy:%.3f%%' %(100.0 * float(correct)/float(total)))"
   ]
  },
  {
   "cell_type": "code",
   "execution_count": 17,
   "metadata": {
    "colab": {
     "base_uri": "https://localhost:8080/"
    },
    "id": "uF4b3GZM1T6P",
    "outputId": "a41840df-d17e-487f-b7ae-cdd11d899879"
   },
   "outputs": [
    {
     "name": "stdout",
     "output_type": "stream",
     "text": [
      "torch.Size([100, 1, 28, 28])\n",
      "torch.Size([100])\n"
     ]
    }
   ],
   "source": [
    "for images, labels in test_loader:\n",
    "  print(images.shape)\n",
    "  print(labels.shape)\n",
    "  break"
   ]
  },
  {
   "cell_type": "code",
   "execution_count": 18,
   "metadata": {
    "colab": {
     "base_uri": "https://localhost:8080/",
     "height": 366
    },
    "id": "FxXX0Aic56k5",
    "outputId": "ecb29c0b-3588-423f-894d-77cf32f0f18b"
   },
   "outputs": [
    {
     "data": {
      "image/png": "[encoded data removed]",
      "text/plain": [
       "<Figure size 640x480 with 1 Axes>"
      ]
     },
     "metadata": {},
     "output_type": "display_data"
    },
    {
     "name": "stdout",
     "output_type": "stream",
     "text": [
      "tensor([[ -7.0169,  -6.7538,  -0.8979,   2.7678, -12.5779,  -4.7192, -19.3692,\n",
      "          10.9774,  -4.5664,  -3.5998],\n",
      "        [ -6.6140,   1.8495,  11.8664,   0.8313, -22.0025,  -1.9603,  -7.9853,\n",
      "         -16.2462,   0.4625, -17.5034]], grad_fn=<AddmmBackward0>)\n",
      "tensor([7, 2])\n"
     ]
    }
   ],
   "source": [
    "plt.imshow(images[1][0].numpy(), cmap='gray') # (28*28)\n",
    "plt.title(labels[1].data)\n",
    "plt.show()\n",
    "images_flat = Variable(images[:2].view(-1, 28*28))\n",
    "outputs = model(images_flat)\n",
    "print(outputs)\n",
    "_, pred_y = torch.max(outputs.data, 1)\n",
    "print(pred_y)"
   ]
  },
  {
   "cell_type": "code",
   "execution_count": 19,
   "metadata": {
    "id": "nGy9XRzr6b5A"
   },
   "outputs": [],
   "source": [
    "torch.save(model.state_dict(), \"model.pkl\")"
   ]
  },
  {
   "cell_type": "code",
   "execution_count": 20,
   "metadata": {
    "colab": {
     "base_uri": "https://localhost:8080/"
    },
    "id": "Enok8YbWBKMd",
    "outputId": "8c65de8d-bbff-4d73-a11e-ebf4d06d1b3c"
   },
   "outputs": [
    {
     "data": {
      "text/plain": [
       "<All keys matched successfully>"
      ]
     },
     "execution_count": 20,
     "metadata": {},
     "output_type": "execute_result"
    }
   ],
   "source": [
    "model2 = Model(input_size, hidden_size, num_classes)\n",
    "model2.load_state_dict(torch.load('model.pkl'))"
   ]
  },
  {
   "cell_type": "code",
   "execution_count": 21,
   "metadata": {
    "colab": {
     "base_uri": "https://localhost:8080/"
    },
    "id": "1YndssUYCl-8",
    "outputId": "744ab217-f7b3-4524-d98a-a9bc49675442"
   },
   "outputs": [
    {
     "name": "stdout",
     "output_type": "stream",
     "text": [
      "Accuracy:97.950%\n"
     ]
    }
   ],
   "source": [
    "correct = 0\n",
    "total = 0\n",
    "for images, labels in test_loader:\n",
    "  images = Variable(images.view(-1, 28*28))\n",
    "  labels = Variable(labels) # torch.Size([100]) batch_size\n",
    "  outputs = model2(images) # torch.Size([100, 10]) # batch_size, num_classes\n",
    "  _, pred = torch.max(outputs.data, 1) # 1=(from) row\n",
    "  \n",
    "  correct += (pred == labels).sum() # 猜對量sum\n",
    "  total += labels.size(0)\n",
    "\n",
    "print('Accuracy:%.3f%%' %(100.0 * float(correct)/float(total)))"
   ]
  },
  {
   "cell_type": "code",
   "execution_count": 22,
   "metadata": {
    "id": "K7vOpofTCri0"
   },
   "outputs": [],
   "source": [
    "torch.save(model2, 'model2.pkl')"
   ]
  },
  {
   "cell_type": "code",
   "execution_count": 23,
   "metadata": {
    "id": "EvKzK2KADsdb"
   },
   "outputs": [],
   "source": [
    "model3 = torch.load('model2.pkl')"
   ]
  },
  {
   "cell_type": "code",
   "execution_count": 24,
   "metadata": {
    "colab": {
     "base_uri": "https://localhost:8080/"
    },
    "id": "NkEOAXRTEFgZ",
    "outputId": "d4817a13-5117-4476-ae98-f68482094a32"
   },
   "outputs": [
    {
     "name": "stdout",
     "output_type": "stream",
     "text": [
      "Accuracy:97.950%\n"
     ]
    }
   ],
   "source": [
    "correct = 0\n",
    "total = 0\n",
    "for images, labels in test_loader:\n",
    "  images = Variable(images.view(-1, 28*28))\n",
    "  labels = Variable(labels) # torch.Size([100]) batch_size\n",
    "  outputs = model3(images) # torch.Size([100, 10]) # batch_size, num_classes\n",
    "  _, pred = torch.max(outputs.data, 1) # 1=(from) row\n",
    "  \n",
    "  correct += (pred == labels).sum() # 猜對量sum\n",
    "  total += labels.size(0)\n",
    "\n",
    "print('Accuracy:%.3f%%' %(100.0 * float(correct)/float(total)))"
   ]
  },
  {
   "cell_type": "code",
   "execution_count": 25,
   "metadata": {
    "colab": {
     "base_uri": "https://localhost:8080/"
    },
    "id": "_H7f2KKxEGS9",
    "outputId": "22b3096e-16aa-4645-c6d1-01a2c34792d4"
   },
   "outputs": [
    {
     "name": "stdout",
     "output_type": "stream",
     "text": [
      "Model(\n",
      "  (fc1): Linear(in_features=784, out_features=500, bias=True)\n",
      "  (relu): ReLU()\n",
      "  (fc2): Linear(in_features=500, out_features=10, bias=True)\n",
      ")\n",
      "Sequential(\n",
      "  (0): Linear(in_features=784, out_features=500, bias=True)\n",
      "  (1): ReLU()\n",
      "  (2): Linear(in_features=500, out_features=10, bias=True)\n",
      ")\n"
     ]
    }
   ],
   "source": [
    "model4 = nn.Sequential(\n",
    "      nn.Linear(input_size, hidden_size),\n",
    "      nn.ReLU(),\n",
    "      nn.Linear(hidden_size, num_classes)\n",
    ")\n",
    "print(model)\n",
    "print(model4)"
   ]
  },
  {
   "cell_type": "code",
   "execution_count": 26,
   "metadata": {
    "id": "Jvz6FXwOj7Zh"
   },
   "outputs": [],
   "source": [
    "# optimizer = opt.SGD(model4.parameters(), lr=learnin_rate, momentum=0.5)\n",
    "# optimizer = opt.Adagrad(model4.parameters(), lr=learnin_rate)\n",
    "# optimizer = opt.RMSprop(model4.parameters(), lr=learnin_rate)\n",
    "optimizer = opt.Adam(model4.parameters(), lr=learnin_rate, betas=(0.9, 0.999))"
   ]
  },
  {
   "cell_type": "code",
   "execution_count": 27,
   "metadata": {
    "colab": {
     "base_uri": "https://localhost:8080/"
    },
    "id": "jVlhuEEQkPfb",
    "outputId": "11764180-6e84-43ce-fc5f-7bdcb05729a8"
   },
   "outputs": [
    {
     "name": "stdout",
     "output_type": "stream",
     "text": [
      "Epoch: 1, Batch: 100, Loss: 0.2411\n",
      "Epoch: 1, Batch: 200, Loss: 0.3243\n",
      "Epoch: 1, Batch: 300, Loss: 0.2763\n",
      "Epoch: 1, Batch: 400, Loss: 0.1475\n",
      "Epoch: 1, Batch: 500, Loss: 0.2861\n",
      "Epoch: 1, Batch: 600, Loss: 0.1417\n",
      "Epoch: 2, Batch: 100, Loss: 0.1184\n",
      "Epoch: 2, Batch: 200, Loss: 0.1121\n",
      "Epoch: 2, Batch: 300, Loss: 0.1425\n",
      "Epoch: 2, Batch: 400, Loss: 0.0989\n",
      "Epoch: 2, Batch: 500, Loss: 0.0673\n",
      "Epoch: 2, Batch: 600, Loss: 0.2183\n",
      "Epoch: 3, Batch: 100, Loss: 0.0640\n",
      "Epoch: 3, Batch: 200, Loss: 0.1012\n",
      "Epoch: 3, Batch: 300, Loss: 0.0532\n",
      "Epoch: 3, Batch: 400, Loss: 0.0650\n",
      "Epoch: 3, Batch: 500, Loss: 0.0626\n",
      "Epoch: 3, Batch: 600, Loss: 0.1082\n",
      "Epoch: 4, Batch: 100, Loss: 0.1133\n",
      "Epoch: 4, Batch: 200, Loss: 0.0750\n",
      "Epoch: 4, Batch: 300, Loss: 0.0319\n",
      "Epoch: 4, Batch: 400, Loss: 0.0347\n",
      "Epoch: 4, Batch: 500, Loss: 0.0546\n",
      "Epoch: 4, Batch: 600, Loss: 0.1431\n",
      "Epoch: 5, Batch: 100, Loss: 0.0226\n",
      "Epoch: 5, Batch: 200, Loss: 0.0173\n",
      "Epoch: 5, Batch: 300, Loss: 0.0142\n",
      "Epoch: 5, Batch: 400, Loss: 0.0466\n",
      "Epoch: 5, Batch: 500, Loss: 0.0572\n",
      "Epoch: 5, Batch: 600, Loss: 0.0418\n"
     ]
    }
   ],
   "source": [
    "for epoch in range(num_epoch):\n",
    "  for idx, (images, labels) in enumerate(train_loader):\n",
    "    images = Variable(images.view(-1, 28*28))\n",
    "    labels = Variable(labels)\n",
    "\n",
    "    optimizer.zero_grad()\n",
    "    outputs = model4(images)\n",
    "    loss = loss_fn(outputs, labels)\n",
    "    loss.backward()\n",
    "    optimizer.step()\n",
    "\n",
    "    if (idx+1)%100 == 0:\n",
    "      print(\"Epoch: %d, Batch: %d, Loss: %.4f\" %(epoch+1, idx+1, loss.data))"
   ]
  },
  {
   "cell_type": "code",
   "execution_count": null,
   "metadata": {
    "id": "jHQzygwykZ4g"
   },
   "outputs": [],
   "source": []
  }
 ],
 "metadata": {
  "accelerator": "GPU",
  "colab": {
   "collapsed_sections": [],
   "name": "03 neural network.ipynb",
   "provenance": []
  },
  "kernelspec": {
   "display_name": "Python 3 (ipykernel)",
   "language": "python",
   "name": "python3"
  },
  "language_info": {
   "codemirror_mode": {
    "name": "ipython",
    "version": 3
   },
   "file_extension": ".py",
   "mimetype": "text/x-python",
   "name": "python",
   "nbconvert_exporter": "python",
   "pygments_lexer": "ipython3",
   "version": "3.7.13"
  }
 },
 "nbformat": 4,
 "nbformat_minor": 4
}
